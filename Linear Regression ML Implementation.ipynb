{
 "cells": [
  {
   "cell_type": "code",
   "execution_count": 1,
   "id": "7b3cbbdb",
   "metadata": {},
   "outputs": [
    {
     "ename": "ModuleNotFoundError",
     "evalue": "No module named 'pandas'",
     "output_type": "error",
     "traceback": [
      "\u001b[1;31m---------------------------------------------------------------------------\u001b[0m",
      "\u001b[1;31mModuleNotFoundError\u001b[0m                       Traceback (most recent call last)",
      "\u001b[1;32me:\\bostonhousepricing\\Linear Regression ML Implementation.ipynb Cell 1\u001b[0m line \u001b[0;36m1\n\u001b[1;32m----> <a href='vscode-notebook-cell:/e%3A/bostonhousepricing/Linear%20Regression%20ML%20Implementation.ipynb#W0sZmlsZQ%3D%3D?line=0'>1</a>\u001b[0m \u001b[39mimport\u001b[39;00m \u001b[39mpandas\u001b[39;00m \u001b[39mas\u001b[39;00m \u001b[39mpd\u001b[39;00m\n\u001b[0;32m      <a href='vscode-notebook-cell:/e%3A/bostonhousepricing/Linear%20Regression%20ML%20Implementation.ipynb#W0sZmlsZQ%3D%3D?line=1'>2</a>\u001b[0m \u001b[39mimport\u001b[39;00m \u001b[39mnumpy\u001b[39;00m \u001b[39mas\u001b[39;00m \u001b[39mnp\u001b[39;00m\n\u001b[0;32m      <a href='vscode-notebook-cell:/e%3A/bostonhousepricing/Linear%20Regression%20ML%20Implementation.ipynb#W0sZmlsZQ%3D%3D?line=2'>3</a>\u001b[0m \u001b[39mimport\u001b[39;00m \u001b[39mmatplotlib\u001b[39;00m\u001b[39m.\u001b[39;00m\u001b[39mpyplot\u001b[39;00m \u001b[39mas\u001b[39;00m \u001b[39mplt\u001b[39;00m\n",
      "\u001b[1;31mModuleNotFoundError\u001b[0m: No module named 'pandas'"
     ]
    }
   ],
   "source": [
    "import pandas as pd\n",
    "import numpy as np\n",
    "import matplotlib.pyplot as plt\n",
    "%matplotlib inline"
   ]
  },
  {
   "cell_type": "markdown",
   "id": "f7ccab64",
   "metadata": {},
   "source": [
    "# Let's load the Boston House Pricing dataset"
   ]
  },
  {
   "cell_type": "code",
   "execution_count": null,
   "id": "b020430e",
   "metadata": {},
   "outputs": [],
   "source": [
    "boston_df = pd.read_csv(\"Boston.csv\")\n",
    "boston_df.head()"
   ]
  },
  {
   "cell_type": "code",
   "execution_count": null,
   "id": "02782b6f",
   "metadata": {},
   "outputs": [],
   "source": [
    "dataset = boston_df.drop(\"Unnamed: 0\", axis=1)\n",
    "dataset.head()"
   ]
  },
  {
   "cell_type": "code",
   "execution_count": null,
   "id": "79615547",
   "metadata": {},
   "outputs": [],
   "source": [
    "dataset[\"Price\"] = dataset.medv\n",
    "dataset.head()"
   ]
  },
  {
   "cell_type": "code",
   "execution_count": null,
   "id": "e80b9afc",
   "metadata": {},
   "outputs": [],
   "source": [
    "dataset.drop('medv', axis=1, inplace=True)"
   ]
  },
  {
   "cell_type": "code",
   "execution_count": null,
   "id": "0e592b19",
   "metadata": {},
   "outputs": [],
   "source": [
    "dataset.head()"
   ]
  },
  {
   "cell_type": "code",
   "execution_count": null,
   "id": "f8ae74bf",
   "metadata": {},
   "outputs": [],
   "source": [
    "dataset.info()"
   ]
  },
  {
   "cell_type": "code",
   "execution_count": null,
   "id": "957a9097",
   "metadata": {},
   "outputs": [],
   "source": [
    "dataset['chas'] = dataset['chas'].astype(float)\n",
    "dataset['rad'] = dataset['rad'].astype(float)\n",
    "dataset['tax'] = dataset['tax'].astype(float)\n",
    "dataset.info()"
   ]
  },
  {
   "cell_type": "code",
   "execution_count": null,
   "id": "5ac69434",
   "metadata": {},
   "outputs": [],
   "source": [
    "## summarizing the stats of the data\n",
    "dataset.describe()"
   ]
  },
  {
   "cell_type": "code",
   "execution_count": null,
   "id": "bbce44d7",
   "metadata": {},
   "outputs": [],
   "source": [
    "## Check the missing values in the dataset\n",
    "dataset.isnull().sum()"
   ]
  },
  {
   "cell_type": "markdown",
   "id": "a2f13b34",
   "metadata": {},
   "source": [
    "Look like the dataset has no missing values we will move from here "
   ]
  },
  {
   "cell_type": "code",
   "execution_count": null,
   "id": "4328eedd",
   "metadata": {},
   "outputs": [],
   "source": [
    "## Performing EDA( Exploratory Data Analysis)\n",
    "## correlation \n",
    "\n",
    "dataset.corr()"
   ]
  },
  {
   "cell_type": "code",
   "execution_count": null,
   "id": "fa1ada23",
   "metadata": {},
   "outputs": [],
   "source": [
    "import seaborn as sns\n",
    "sns.pairplot(dataset)"
   ]
  },
  {
   "cell_type": "code",
   "execution_count": null,
   "id": "bb1477c2",
   "metadata": {},
   "outputs": [],
   "source": [
    "dataset.corr()"
   ]
  },
  {
   "cell_type": "code",
   "execution_count": null,
   "id": "fc56e198",
   "metadata": {},
   "outputs": [],
   "source": [
    "plt.scatter(dataset['crim'], dataset['Price'])\n",
    "plt.xlabel(\"Crime Rate\")\n",
    "plt.ylabel(\"Price\")"
   ]
  },
  {
   "cell_type": "code",
   "execution_count": null,
   "id": "86de4e8e",
   "metadata": {},
   "outputs": [],
   "source": [
    "plt.scatter(dataset['rm'], dataset['Price'])\n",
    "plt.xlabel(\"RM\")\n",
    "plt.ylabel(\"Price\")"
   ]
  },
  {
   "cell_type": "code",
   "execution_count": null,
   "id": "5f58003a",
   "metadata": {},
   "outputs": [],
   "source": [
    "sns.regplot(x=\"rm\", y=\"Price\", data=dataset)"
   ]
  },
  {
   "cell_type": "code",
   "execution_count": null,
   "id": "e6b0a246",
   "metadata": {},
   "outputs": [],
   "source": [
    "sns.regplot(x=\"lstat\", y=\"Price\", data=dataset)"
   ]
  },
  {
   "cell_type": "code",
   "execution_count": null,
   "id": "a93f0f91",
   "metadata": {},
   "outputs": [],
   "source": [
    "sns.regplot(x=\"chas\", y=\"Price\", data=dataset)"
   ]
  },
  {
   "cell_type": "code",
   "execution_count": null,
   "id": "95e2b318",
   "metadata": {},
   "outputs": [],
   "source": [
    "sns.regplot(x=\"ptratio\", y=\"Price\", data=dataset)"
   ]
  },
  {
   "cell_type": "code",
   "execution_count": null,
   "id": "7bcc4e28",
   "metadata": {},
   "outputs": [],
   "source": [
    "## Dividing the dataset into dependent and independent features\n",
    "\n",
    "X = dataset.iloc[:, :-1]\n",
    "y = dataset.iloc[:,-1]\n",
    "X.head()"
   ]
  },
  {
   "cell_type": "code",
   "execution_count": null,
   "id": "b8b60a24",
   "metadata": {},
   "outputs": [],
   "source": [
    "y.head()"
   ]
  },
  {
   "cell_type": "code",
   "execution_count": null,
   "id": "490256a4",
   "metadata": {},
   "outputs": [],
   "source": [
    "## Train Test Split\n",
    "from sklearn.model_selection import train_test_split\n",
    "X_train,X_test, y_train,y_test = train_test_split(X,y, test_size=0.3, random_state=42)"
   ]
  },
  {
   "cell_type": "code",
   "execution_count": null,
   "id": "35f320a5",
   "metadata": {},
   "outputs": [],
   "source": [
    "X_train"
   ]
  },
  {
   "cell_type": "code",
   "execution_count": null,
   "id": "07858150",
   "metadata": {},
   "outputs": [],
   "source": [
    "X_test"
   ]
  },
  {
   "cell_type": "code",
   "execution_count": null,
   "id": "f77082d0",
   "metadata": {},
   "outputs": [],
   "source": [
    "## Standard Scaling \n",
    "from sklearn.preprocessing import StandardScaler\n",
    "\n",
    "scaler = StandardScaler()"
   ]
  },
  {
   "cell_type": "code",
   "execution_count": null,
   "id": "0c86b284",
   "metadata": {},
   "outputs": [],
   "source": [
    "X_train_scaled = scaler.fit_transform(X_train)\n",
    "X_test_scaled = scaler.transform(X_test)"
   ]
  },
  {
   "cell_type": "code",
   "execution_count": null,
   "id": "014fc6f1",
   "metadata": {},
   "outputs": [],
   "source": [
    "X_train_scaled"
   ]
  },
  {
   "cell_type": "markdown",
   "id": "b9af7566",
   "metadata": {},
   "source": [
    "# Model Training "
   ]
  },
  {
   "cell_type": "code",
   "execution_count": null,
   "id": "52768de9",
   "metadata": {},
   "outputs": [],
   "source": [
    "from sklearn.linear_model import LinearRegression"
   ]
  },
  {
   "cell_type": "code",
   "execution_count": null,
   "id": "04576f3c",
   "metadata": {},
   "outputs": [],
   "source": [
    "regression = LinearRegression()"
   ]
  },
  {
   "cell_type": "code",
   "execution_count": null,
   "id": "ad31f58c",
   "metadata": {},
   "outputs": [],
   "source": [
    "regression.fit(X_train_scaled, y_train)"
   ]
  },
  {
   "cell_type": "code",
   "execution_count": null,
   "id": "838ac18f",
   "metadata": {},
   "outputs": [],
   "source": [
    "## Print the coefficents and the intercept\n",
    "print(regression.coef_)"
   ]
  },
  {
   "cell_type": "code",
   "execution_count": null,
   "id": "c8a4da7b",
   "metadata": {},
   "outputs": [],
   "source": [
    "print(regression.intercept_)"
   ]
  },
  {
   "cell_type": "code",
   "execution_count": null,
   "id": "254ca8cd",
   "metadata": {},
   "outputs": [],
   "source": [
    "## on which parameter the model was trained \n",
    "regression.get_params()"
   ]
  },
  {
   "cell_type": "code",
   "execution_count": null,
   "id": "f29ad6ea",
   "metadata": {},
   "outputs": [],
   "source": [
    "### prediction with the test data\n",
    "reg_pred = regression.predict(X_test_scaled)"
   ]
  },
  {
   "cell_type": "code",
   "execution_count": null,
   "id": "17e5df79",
   "metadata": {},
   "outputs": [],
   "source": [
    "reg_pred"
   ]
  },
  {
   "cell_type": "markdown",
   "id": "80a867d5",
   "metadata": {},
   "source": [
    "# Assumptions"
   ]
  },
  {
   "cell_type": "code",
   "execution_count": null,
   "id": "4eab778d",
   "metadata": {},
   "outputs": [],
   "source": [
    "## plot a scatter plot for the prediction\n",
    "\n",
    "plt.scatter(y_test, reg_pred)"
   ]
  },
  {
   "cell_type": "code",
   "execution_count": null,
   "id": "a475e5a6",
   "metadata": {},
   "outputs": [],
   "source": [
    "## Residuals \n",
    "\n",
    "residuals = y_test - reg_pred"
   ]
  },
  {
   "cell_type": "code",
   "execution_count": null,
   "id": "9034e01d",
   "metadata": {},
   "outputs": [],
   "source": [
    "residuals"
   ]
  },
  {
   "cell_type": "code",
   "execution_count": null,
   "id": "5844a0ea",
   "metadata": {},
   "outputs": [],
   "source": [
    "## plot this rsiduals\n",
    "\n",
    "sns.displot(residuals, kind=\"kde\")"
   ]
  },
  {
   "cell_type": "code",
   "execution_count": null,
   "id": "c3c82478",
   "metadata": {},
   "outputs": [],
   "source": [
    "## Scatter Plot with respect to prediction and residuals\n",
    "## Uniform distribution\n",
    "plt.scatter(reg_pred, residuals)\n"
   ]
  },
  {
   "cell_type": "code",
   "execution_count": null,
   "id": "c9af6b2d",
   "metadata": {},
   "outputs": [],
   "source": [
    "from sklearn.metrics import mean_squared_error\n",
    "from sklearn.metrics import mean_absolute_error\n",
    "\n",
    "print(mean_absolute_error(y_test, reg_pred))\n",
    "print(mean_squared_error(y_test, reg_pred))\n",
    "print(np.sqrt(mean_squared_error(y_test, reg_pred)))"
   ]
  },
  {
   "cell_type": "markdown",
   "id": "7017ea63",
   "metadata": {},
   "source": [
    "##  R square and Adjusted R square "
   ]
  },
  {
   "cell_type": "code",
   "execution_count": null,
   "id": "b961266c",
   "metadata": {},
   "outputs": [],
   "source": [
    "from sklearn.metrics import r2_score\n",
    "score = r2_score(y_test, reg_pred)\n",
    "print(score)"
   ]
  },
  {
   "cell_type": "code",
   "execution_count": null,
   "id": "6b433446",
   "metadata": {},
   "outputs": [],
   "source": [
    "# display the adjusted R- Squared \n",
    "\n",
    "1 - (1 -score)*(len(y_test)-1)/(len(y_test)-X_test_scaled.shape[1]-1)"
   ]
  },
  {
   "cell_type": "markdown",
   "id": "dc7cb5de",
   "metadata": {},
   "source": [
    "# Pickling The Model file For Deployment "
   ]
  },
  {
   "cell_type": "code",
   "execution_count": null,
   "id": "39b54a92",
   "metadata": {},
   "outputs": [],
   "source": [
    "X.shape"
   ]
  },
  {
   "cell_type": "code",
   "execution_count": null,
   "id": "c5cd7292",
   "metadata": {},
   "outputs": [],
   "source": [
    "import pickle"
   ]
  },
  {
   "cell_type": "code",
   "execution_count": null,
   "id": "dbc2a089",
   "metadata": {},
   "outputs": [],
   "source": [
    "pickle.dump(regression, open('regmodel.pkl', 'wb'))"
   ]
  },
  {
   "cell_type": "code",
   "execution_count": null,
   "id": "5e7b257f",
   "metadata": {},
   "outputs": [],
   "source": [
    "pickle_model = pickle.load(open('regmodel.pkl', 'rb'))"
   ]
  },
  {
   "cell_type": "code",
   "execution_count": null,
   "id": "0b92828c",
   "metadata": {},
   "outputs": [],
   "source": []
  }
 ],
 "metadata": {
  "kernelspec": {
   "display_name": "Python 3",
   "language": "python",
   "name": "python3"
  },
  "language_info": {
   "codemirror_mode": {
    "name": "ipython",
    "version": 3
   },
   "file_extension": ".py",
   "mimetype": "text/x-python",
   "name": "python",
   "nbconvert_exporter": "python",
   "pygments_lexer": "ipython3",
   "version": "3.9.18"
  }
 },
 "nbformat": 4,
 "nbformat_minor": 5
}
